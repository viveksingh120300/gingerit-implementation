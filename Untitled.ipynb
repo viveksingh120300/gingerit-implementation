{
 "cells": [
  {
   "cell_type": "code",
   "execution_count": 1,
   "id": "4b9ebacd",
   "metadata": {},
   "outputs": [],
   "source": [
    "from gingerit.gingerit import GingerIt\n",
    "import streamlit as st"
   ]
  },
  {
   "cell_type": "code",
   "execution_count": 3,
   "id": "f1149040",
   "metadata": {},
   "outputs": [],
   "source": [
    "st.title('Spell Checker')\n",
    "text = st.text_area(\"Enter Text : \", value = '', height = None, max_chars=None, key = None)"
   ]
  },
  {
   "cell_type": "code",
   "execution_count": 4,
   "id": "564c9dcf",
   "metadata": {},
   "outputs": [],
   "source": [
    "parser = GingerIt()"
   ]
  },
  {
   "cell_type": "code",
   "execution_count": 5,
   "id": "7c1314c0",
   "metadata": {},
   "outputs": [],
   "source": [
    "if st.button('Correct Sentence'):\n",
    "    if text == '':\n",
    "        st.write('Enter text for checking ')\n",
    "        \n",
    "        \n",
    "    else:\n",
    "        result_dict = parser.parse(text)\n",
    "        st.markdown('Corrected Sentence : '+str(result_dict[\"result\"]))\n",
    "\n",
    "else: \n",
    "    pass \n"
   ]
  },
  {
   "cell_type": "code",
   "execution_count": null,
   "id": "e26058b5",
   "metadata": {},
   "outputs": [],
   "source": []
  },
  {
   "cell_type": "code",
   "execution_count": 3,
   "id": "21b5b7ce",
   "metadata": {},
   "outputs": [],
   "source": []
  },
  {
   "cell_type": "code",
   "execution_count": 6,
   "id": "fbbd53b8",
   "metadata": {},
   "outputs": [],
   "source": []
  },
  {
   "cell_type": "code",
   "execution_count": 7,
   "id": "9dce3450",
   "metadata": {},
   "outputs": [],
   "source": []
  },
  {
   "cell_type": "code",
   "execution_count": null,
   "id": "edd6784d",
   "metadata": {},
   "outputs": [],
   "source": []
  },
  {
   "cell_type": "code",
   "execution_count": null,
   "id": "d9e4c177",
   "metadata": {},
   "outputs": [],
   "source": []
  },
  {
   "cell_type": "code",
   "execution_count": null,
   "id": "0f9b4389",
   "metadata": {},
   "outputs": [],
   "source": []
  },
  {
   "cell_type": "code",
   "execution_count": null,
   "id": "60110bad",
   "metadata": {},
   "outputs": [],
   "source": []
  },
  {
   "cell_type": "code",
   "execution_count": null,
   "id": "75f0e8a3",
   "metadata": {},
   "outputs": [],
   "source": []
  },
  {
   "cell_type": "code",
   "execution_count": null,
   "id": "a8a25fef",
   "metadata": {},
   "outputs": [],
   "source": []
  },
  {
   "cell_type": "code",
   "execution_count": null,
   "id": "44440d8c",
   "metadata": {},
   "outputs": [],
   "source": []
  },
  {
   "cell_type": "code",
   "execution_count": null,
   "id": "e876fbe7",
   "metadata": {},
   "outputs": [],
   "source": []
  }
 ],
 "metadata": {
  "kernelspec": {
   "display_name": "spellcheck_env",
   "language": "python",
   "name": "spellcheck_env"
  },
  "language_info": {
   "codemirror_mode": {
    "name": "ipython",
    "version": 3
   },
   "file_extension": ".py",
   "mimetype": "text/x-python",
   "name": "python",
   "nbconvert_exporter": "python",
   "pygments_lexer": "ipython3",
   "version": "3.7.8"
  }
 },
 "nbformat": 4,
 "nbformat_minor": 5
}
